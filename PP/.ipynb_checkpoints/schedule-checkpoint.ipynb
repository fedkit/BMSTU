{
 "cells": [
  {
   "cell_type": "code",
   "execution_count": 1,
   "id": "f004af8e-4813-4d96-96fd-0dc862fe37bf",
   "metadata": {},
   "outputs": [
    {
     "ename": "FileNotFoundError",
     "evalue": "[Errno 2] No such file or directory: 'answer2.txt'",
     "output_type": "error",
     "traceback": [
      "\u001b[0;31m---------------------------------------------------------------------------\u001b[0m",
      "\u001b[0;31mFileNotFoundError\u001b[0m                         Traceback (most recent call last)",
      "Cell \u001b[0;32mIn[1], line 8\u001b[0m\n\u001b[1;32m      5\u001b[0m threads \u001b[38;5;241m=\u001b[39m []\n\u001b[1;32m      6\u001b[0m times \u001b[38;5;241m=\u001b[39m []\n\u001b[0;32m----> 8\u001b[0m \u001b[38;5;28;01mwith\u001b[39;00m \u001b[38;5;28mopen\u001b[39m(\u001b[38;5;124m'\u001b[39m\u001b[38;5;124manswer2.txt\u001b[39m\u001b[38;5;124m'\u001b[39m, \u001b[38;5;124m'\u001b[39m\u001b[38;5;124mr\u001b[39m\u001b[38;5;124m'\u001b[39m) \u001b[38;5;28;01mas\u001b[39;00m file:\n\u001b[1;32m      9\u001b[0m     \u001b[38;5;28;01mfor\u001b[39;00m line \u001b[38;5;129;01min\u001b[39;00m file:\n\u001b[1;32m     10\u001b[0m         \u001b[38;5;28;01mif\u001b[39;00m \u001b[38;5;124m'\u001b[39m\u001b[38;5;124m-\u001b[39m\u001b[38;5;124m'\u001b[39m \u001b[38;5;129;01min\u001b[39;00m line:\n",
      "File \u001b[0;32m~/anaconda3/lib/python3.13/site-packages/IPython/core/interactiveshell.py:324\u001b[0m, in \u001b[0;36m_modified_open\u001b[0;34m(file, *args, **kwargs)\u001b[0m\n\u001b[1;32m    317\u001b[0m \u001b[38;5;28;01mif\u001b[39;00m file \u001b[38;5;129;01min\u001b[39;00m {\u001b[38;5;241m0\u001b[39m, \u001b[38;5;241m1\u001b[39m, \u001b[38;5;241m2\u001b[39m}:\n\u001b[1;32m    318\u001b[0m     \u001b[38;5;28;01mraise\u001b[39;00m \u001b[38;5;167;01mValueError\u001b[39;00m(\n\u001b[1;32m    319\u001b[0m         \u001b[38;5;124mf\u001b[39m\u001b[38;5;124m\"\u001b[39m\u001b[38;5;124mIPython won\u001b[39m\u001b[38;5;124m'\u001b[39m\u001b[38;5;124mt let you open fd=\u001b[39m\u001b[38;5;132;01m{\u001b[39;00mfile\u001b[38;5;132;01m}\u001b[39;00m\u001b[38;5;124m by default \u001b[39m\u001b[38;5;124m\"\u001b[39m\n\u001b[1;32m    320\u001b[0m         \u001b[38;5;124m\"\u001b[39m\u001b[38;5;124mas it is likely to crash IPython. If you know what you are doing, \u001b[39m\u001b[38;5;124m\"\u001b[39m\n\u001b[1;32m    321\u001b[0m         \u001b[38;5;124m\"\u001b[39m\u001b[38;5;124myou can use builtins\u001b[39m\u001b[38;5;124m'\u001b[39m\u001b[38;5;124m open.\u001b[39m\u001b[38;5;124m\"\u001b[39m\n\u001b[1;32m    322\u001b[0m     )\n\u001b[0;32m--> 324\u001b[0m \u001b[38;5;28;01mreturn\u001b[39;00m io_open(file, \u001b[38;5;241m*\u001b[39margs, \u001b[38;5;241m*\u001b[39m\u001b[38;5;241m*\u001b[39mkwargs)\n",
      "\u001b[0;31mFileNotFoundError\u001b[0m: [Errno 2] No such file or directory: 'answer2.txt'"
     ]
    }
   ],
   "source": [
    "import matplotlib.pyplot as plt\n",
    "import numpy as np\n",
    "\n",
    "# Чтение данных из файла\n",
    "threads = []\n",
    "times = []\n",
    "\n",
    "with open('answer2.txt', 'r') as file:\n",
    "    for line in file:\n",
    "        if '-' in line:\n",
    "            parts = line.strip().split('-')\n",
    "            threads.append(int(parts[0]))\n",
    "            times.append(int(parts[1]))\n",
    "\n",
    "# Преобразование в numpy массивы\n",
    "threads = np.array(threads)\n",
    "times = np.array(times)\n",
    "\n",
    "# Построение графика\n",
    "plt.figure(figsize=(12, 8))\n",
    "plt.plot(threads, times, 'bo-', linewidth=2, markersize=8, label='Время выполнения')\n",
    "\n",
    "# Настройка графика\n",
    "plt.title('Зависимость времени выполнения от количества потоков', fontsize=16, fontweight='bold')\n",
    "plt.xlabel('Количество потоков', fontsize=14)\n",
    "plt.ylabel('Время выполнения (мс)', fontsize=14)\n",
    "plt.grid(True, alpha=0.3)\n",
    "plt.legend(fontsize=12)\n",
    "\n",
    "# Добавление значений на точки\n",
    "for i, (thread, time) in enumerate(zip(threads, times)):\n",
    "    plt.annotate(f'{time} мс', (thread, time), \n",
    "                 textcoords=\"offset points\", \n",
    "                 xytext=(0,10), \n",
    "                 ha='center',\n",
    "                 fontsize=9)\n",
    "\n",
    "plt.xticks(threads)\n",
    "plt.tight_layout()\n",
    "plt.show()\n",
    "\n",
    "# Дополнительная информация\n",
    "print(f\"Минимальное время: {times.min()} мс при {threads[times.argmin()]} потоках\")\n",
    "print(f\"Максимальное время: {times.max()} мс при {threads[times.argmax()]} потоках\")\n",
    "print(f\"Среднее время: {times.mean():.2f} мс\")\n",
    "\n",
    "# Построение графика ускорения (speedup)\n",
    "speedup = times[0] / times  # Ускорение относительно первого измерения\n",
    "\n",
    "plt.figure(figsize=(12, 8))\n",
    "plt.plot(threads, speedup, 'ro-', linewidth=2, markersize=8, label='Ускорение')\n",
    "\n",
    "plt.title('Ускорение в зависимости от количества потоков', fontsize=16, fontweight='bold')\n",
    "plt.xlabel('Количество потоков', fontsize=14)\n",
    "plt.ylabel('Ускорение (раз)', fontsize=14)\n",
    "plt.grid(True, alpha=0.3)\n",
    "plt.legend(fontsize=12)\n",
    "\n",
    "for i, (thread, sp) in enumerate(zip(threads, speedup)):\n",
    "    plt.annotate(f'{sp:.2f}x', (thread, sp), \n",
    "                 textcoords=\"offset points\", \n",
    "                 xytext=(0,10), \n",
    "                 ha='center',\n",
    "                 fontsize=9)\n",
    "\n",
    "plt.xticks(threads)\n",
    "plt.tight_layout()\n",
    "plt.show()\n",
    "\n",
    "print(f\"Максимальное ускорение: {speedup.max():.2f}x при {threads[speedup.argmax()]} потоках\")"
   ]
  }
 ],
 "metadata": {
  "kernelspec": {
   "display_name": "Python [conda env:base] *",
   "language": "python",
   "name": "conda-base-py"
  },
  "language_info": {
   "codemirror_mode": {
    "name": "ipython",
    "version": 3
   },
   "file_extension": ".py",
   "mimetype": "text/x-python",
   "name": "python",
   "nbconvert_exporter": "python",
   "pygments_lexer": "ipython3",
   "version": "3.13.5"
  }
 },
 "nbformat": 4,
 "nbformat_minor": 5
}
